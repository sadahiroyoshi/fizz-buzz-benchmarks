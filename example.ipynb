{
 "cells": [
  {
   "cell_type": "markdown",
   "metadata": {},
   "source": [
    "# Fizz Buzz Benchmark Example\n",
    "The explanation how to calc benchmark. (created by @sadahiroyoshi)"
   ]
  },
  {
   "cell_type": "markdown",
   "metadata": {},
   "source": [
    "## Preparation\n",
    "Import libs & load config files."
   ]
  },
  {
   "cell_type": "code",
   "execution_count": 1,
   "metadata": {},
   "outputs": [],
   "source": [
    "import platform\n",
    "import pandas as pd\n",
    "import tool.language as language\n",
    "import tool.benchmark as benchmark"
   ]
  },
  {
   "cell_type": "code",
   "execution_count": 2,
   "metadata": {},
   "outputs": [],
   "source": [
    "# load all languages in conf/languages.csv.\n",
    "langs = language.load_languages()"
   ]
  },
  {
   "cell_type": "markdown",
   "metadata": {},
   "source": [
    "## Print Your Device Info\n",
    "Check your environment before execute."
   ]
  },
  {
   "cell_type": "code",
   "execution_count": 3,
   "metadata": {},
   "outputs": [
    {
     "name": "stdout",
     "output_type": "stream",
     "text": [
      "platform.system()=Darwin\n",
      "platform.version()=Darwin Kernel Version 20.6.0: Mon Aug 30 06:12:20 PDT 2021; root:xnu-7195.141.6~3/RELEASE_ARM64_T8101\n",
      "platform.release()=20.6.0\n"
     ]
    }
   ],
   "source": [
    "# print OS info of your device.\n",
    "print( \"platform.system()={}\".format( platform.system() ))\n",
    "print( \"platform.version()={}\".format( platform.version() ))\n",
    "print( \"platform.release()={}\".format( platform.release() ))"
   ]
  },
  {
   "cell_type": "code",
   "execution_count": 4,
   "metadata": {},
   "outputs": [
    {
     "name": "stdout",
     "output_type": "stream",
     "text": [
      "python:\n",
      "Python 3.9.6\n",
      "\n",
      "rust:\n",
      "rustc 1.54.0 (a178d0322 2021-07-26)\n",
      "\n",
      "go:\n",
      "go version go1.17.2 darwin/amd64\n",
      "\n",
      "scala:\n",
      "Scala code runner version 2.13.6 -- Copyright 2002-2021, LAMP/EPFL and Lightbend, Inc.\n",
      "\n",
      "c:\n",
      "Apple clang version 13.0.0 (clang-1300.0.29.3)\n",
      "Target: x86_64-apple-darwin20.6.0\n",
      "Thread model: posix\n",
      "InstalledDir: /Applications/Xcode.app/Contents/Developer/Toolchains/XcodeDefault.xctoolchain/usr/bin\n",
      "\n",
      "java:\n",
      "openjdk 16.0.2 2021-07-20\n",
      "OpenJDK Runtime Environment (build 16.0.2+7-67)\n",
      "OpenJDK 64-Bit Server VM (build 16.0.2+7-67, mixed mode, sharing)\n",
      "\n",
      "ruby:\n",
      "ruby 2.6.5p114 (2019-10-01 revision 67812) [x86_64-darwin19]\n",
      "\n",
      "dart:\n",
      "Dart SDK version: 2.14.3 (stable) (Wed Sep 29 13:10:26 2021 +0200) on \"macos_x64\"\n",
      "\n",
      "nodejs:\n",
      "v8.10.0\n",
      "\n"
     ]
    }
   ],
   "source": [
    "# print all versions of each langs on your device.\n",
    "for _lang in langs:\n",
    "    language.print_version(_lang)"
   ]
  },
  {
   "cell_type": "markdown",
   "metadata": {},
   "source": [
    "## Run Method\n",
    "\n",
    "Run the method which is wanted to calculate a benchmark."
   ]
  },
  {
   "cell_type": "code",
   "execution_count": 5,
   "metadata": {},
   "outputs": [
    {
     "name": "stderr",
     "output_type": "stream",
     "text": [
      "04:38:28.882 tool.benchmark:66 run [DEBUG]: python started...\n",
      "04:38:28.884 tool.benchmark:76 run [DEBUG]: run 10 times: python /Users/sadahiroyoshi/repo/fizz-buzz-benchmarks/script/python/println/fizz_buzz_println.py 100000\n",
      "04:38:29.727 tool.benchmark:81 run [DEBUG]: ignore the first run as noise removing\n",
      "04:38:29.732 tool.benchmark:84 run [DEBUG]: python finished...\n"
     ]
    }
   ],
   "source": [
    "# calculate all benchmarks of 'println'\n",
    "method = 'println'\n",
    "n = 100_000\n",
    "r = 10\n",
    "\n",
    "results_by_langs = {}\n",
    "_debug = True\n",
    "for _lang in langs:\n",
    "    # if `debug=True`, you can check actual cmd line in `benchmark.run`\n",
    "    results_by_langs[_lang] = benchmark.run(method, _lang, n, r, debug=_debug)\n",
    "    _debug = False # `debug=True` only at first exec"
   ]
  },
  {
   "cell_type": "markdown",
   "metadata": {},
   "source": [
    "`benchmark.run` is internally running method of each langs via CLI. The overhead time when staring CLI, may much effects execution time of this method. So after `benchmark.run`, also run the method 'nothing'. this method is 'do nothing' or empty script file of each langs.\n",
    "\n",
    "You will get real execution time by substracting the 'nothing' time. "
   ]
  },
  {
   "cell_type": "code",
   "execution_count": 6,
   "metadata": {},
   "outputs": [],
   "source": [
    "# also run scripts 'nothing' (to measure execution time of lang cmd itself)\n",
    "results_by_langs_nothing = {}\n",
    "for _lang in langs:\n",
    "    results_by_langs_nothing[_lang] = benchmark.run('nothing', _lang, n, r)"
   ]
  },
  {
   "cell_type": "code",
   "execution_count": 7,
   "metadata": {},
   "outputs": [],
   "source": [
    "# calculate avg of the method & 'nothing'.\n",
    "_avgs = [\n",
    "    sum(results_by_langs[_lang]) / r for _lang in langs\n",
    "]\n",
    "_avgs_nothing = [\n",
    "    sum(results_by_langs_nothing[_lang]) / r for _lang in langs\n",
    "]\n",
    "\n",
    "df = pd.DataFrame({\n",
    "    method: _avgs,\n",
    "    'nothing': _avgs_nothing,\n",
    "}, index=langs)\n",
    "df.index.name = 'language'"
   ]
  },
  {
   "cell_type": "code",
   "execution_count": 8,
   "metadata": {},
   "outputs": [],
   "source": [
    "# substracting the 'nothing' time.\n",
    "df['real'] = df[method] - df['nothing']"
   ]
  },
  {
   "cell_type": "markdown",
   "metadata": {},
   "source": [
    "## Data Plot\n",
    "Finally, plot these results."
   ]
  },
  {
   "cell_type": "code",
   "execution_count": 9,
   "metadata": {},
   "outputs": [
    {
     "data": {
      "text/plain": [
       "<AxesSubplot:ylabel='language'>"
      ]
     },
     "execution_count": 9,
     "metadata": {},
     "output_type": "execute_result"
    },
    {
     "data": {
      "image/png": "[encoded data removed]",
      "text/plain": [
       "<Figure size 432x288 with 1 Axes>"
      ]
     },
     "metadata": {
      "needs_background": "light"
     },
     "output_type": "display_data"
    }
   ],
   "source": [
    "df[method].plot.barh()"
   ]
  },
  {
   "cell_type": "markdown",
   "metadata": {},
   "source": [
    "The result seems that `scala` is most slowest in `println`.\n",
    "\n",
    "But it is not true because `scala` CLI has much overhead time than other languages.\n",
    "Let us check the execution time of 'nothing'."
   ]
  },
  {
   "cell_type": "code",
   "execution_count": 10,
   "metadata": {},
   "outputs": [
    {
     "data": {
      "text/plain": [
       "<AxesSubplot:ylabel='language'>"
      ]
     },
     "execution_count": 10,
     "metadata": {},
     "output_type": "execute_result"
    },
    {
     "data": {
      "image/png": "[encoded data removed]",
      "text/plain": [
       "<Figure size 432x288 with 1 Axes>"
      ]
     },
     "metadata": {
      "needs_background": "light"
     },
     "output_type": "display_data"
    }
   ],
   "source": [
    "df['nothing'].plot.barh()"
   ]
  },
  {
   "cell_type": "markdown",
   "metadata": {},
   "source": [
    "As you can see, `scala` overhead time is much longer.\n",
    "\n",
    "Finally, check the 'real' time by substracting `println` by the 'nothing' time."
   ]
  },
  {
   "cell_type": "code",
   "execution_count": 11,
   "metadata": {},
   "outputs": [
    {
     "data": {
      "text/plain": [
       "<AxesSubplot:ylabel='language'>"
      ]
     },
     "execution_count": 11,
     "metadata": {},
     "output_type": "execute_result"
    },
    {
     "data": {
      "image/png": "[encoded data removed]",
      "text/plain": [
       "<Figure size 432x288 with 1 Axes>"
      ]
     },
     "metadata": {
      "needs_background": "light"
     },
     "output_type": "display_data"
    }
   ],
   "source": [
    "df['real'].plot.barh()"
   ]
  },
  {
   "cell_type": "markdown",
   "metadata": {},
   "source": [
    "As a result, `nodejs` is most slowest in `println`!!\n",
    "\n",
    "But `scala` seems to be slower than others..."
   ]
  },
  {
   "cell_type": "markdown",
   "metadata": {},
   "source": [
    "Let's check other method & try to fix params!!\n",
    "\n",
    "I recommend you to copy this notebook as you can check current result."
   ]
  }
 ],
 "metadata": {
  "interpreter": {
   "hash": "da2b7fcc45e8a8e5c2c97e5e0f50fd222be973a996a6f11f896d382e5c1645de"
  },
  "kernelspec": {
   "display_name": "Python 3 (ipykernel)",
   "language": "python",
   "name": "python3"
  },
  "language_info": {
   "codemirror_mode": {
    "name": "ipython",
    "version": 3
   },
   "file_extension": ".py",
   "mimetype": "text/x-python",
   "name": "python",
   "nbconvert_exporter": "python",
   "pygments_lexer": "ipython3",
   "version": "3.9.6"
  }
 },
 "nbformat": 4,
 "nbformat_minor": 2
}
