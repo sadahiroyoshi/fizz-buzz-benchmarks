{
 "cells": [
  {
   "cell_type": "code",
   "execution_count": null,
   "metadata": {},
   "outputs": [],
   "source": [
    "import platform\n",
    "import pandas as pd\n",
    "import tool.language as language\n",
    "import tool.benchmark as benchmark"
   ]
  },
  {
   "cell_type": "code",
   "execution_count": null,
   "metadata": {},
   "outputs": [],
   "source": [
    "# load all languages in conf/languages.csv.\n",
    "langs = language.load_languages()"
   ]
  },
  {
   "cell_type": "code",
   "execution_count": null,
   "metadata": {},
   "outputs": [],
   "source": [
    "# print OS info of your device.\n",
    "print( \"platform.system()={}\".format( platform.system() ))\n",
    "print( \"platform.version()={}\".format( platform.version() ))\n",
    "print( \"platform.release()={}\".format( platform.release() ))"
   ]
  },
  {
   "cell_type": "code",
   "execution_count": null,
   "metadata": {},
   "outputs": [],
   "source": [
    "# print all versions of each langs on your device.\n",
    "for _lang in langs:\n",
    "    language.print_version(_lang)"
   ]
  },
  {
   "cell_type": "code",
   "execution_count": null,
   "metadata": {},
   "outputs": [],
   "source": [
    "# calculate all benchmarks.\n",
    "method = 'increment'\n",
    "n = 10_000_000\n",
    "r = 20\n",
    "\n",
    "real_results = [\n",
    "    benchmark.calc_real_benchmark(method, _lang, n, r) for _lang in langs\n",
    "]"
   ]
  },
  {
   "cell_type": "code",
   "execution_count": null,
   "metadata": {},
   "outputs": [],
   "source": [
    "# show results.\n",
    "df = pd.DataFrame({'time [sec]': real_results}, index=langs)\n",
    "df.index.name = 'language'\n",
    "df.plot.barh()"
   ]
  }
 ],
 "metadata": {
  "interpreter": {
   "hash": "d3bb9a330ca8deb56f2ea771eb176a8043d9447eea49f8a3032bdb2a4cfc4ae1"
  },
  "kernelspec": {
   "display_name": "Python 3.9.7 64-bit ('3.9.7': pyenv)",
   "name": "python3"
  },
  "language_info": {
   "codemirror_mode": {
    "name": "ipython",
    "version": 3
   },
   "file_extension": ".py",
   "mimetype": "text/x-python",
   "name": "python",
   "nbconvert_exporter": "python",
   "pygments_lexer": "ipython3",
   "version": "3.9.7"
  }
 },
 "nbformat": 4,
 "nbformat_minor": 2
}
