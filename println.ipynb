{
 "cells": [
  {
   "cell_type": "code",
   "execution_count": null,
   "metadata": {},
   "outputs": [],
   "source": [
    "# The explanation how to calc benchmark in this repo\n",
    "\n",
    "# Suppose, this benchmarks may not be useful but only for your interests.\n",
    "# In many cases, as you know, the performance of `println` method itself is not important in production.\n",
    "\n",
    "import platform\n",
    "import pandas as pd\n",
    "import numpy as np\n",
    "import matplotlib.pyplot as plt\n",
    "import tool.language as language\n",
    "import tool.benchmark as benchmark"
   ]
  },
  {
   "cell_type": "code",
   "execution_count": null,
   "metadata": {},
   "outputs": [],
   "source": [
    "print( \"platform.system()={}\".format( platform.system() ))\n",
    "print( \"platform.version()={}\".format( platform.version() ))\n",
    "print( \"platform.release()={}\".format( platform.release() ))"
   ]
  },
  {
   "cell_type": "code",
   "execution_count": null,
   "metadata": {},
   "outputs": [],
   "source": [
    "# load all languages in conf/languages.csv.\n",
    "_langs = language.load_languages()"
   ]
  },
  {
   "cell_type": "code",
   "execution_count": null,
   "metadata": {},
   "outputs": [],
   "source": [
    "# print all versions of each langs on your device.\n",
    "for _lang in _langs:\n",
    "    language.print_version(_lang)"
   ]
  },
  {
   "cell_type": "code",
   "execution_count": null,
   "metadata": {},
   "outputs": [],
   "source": [
    "# calculate all benchmarks of 'println'\n",
    "method = 'println'\n",
    "n = 100_000\n",
    "r = 100\n",
    "\n",
    "_results_by_langs = {}\n",
    "for _lang in _langs:\n",
    "    _results_by_langs[_lang] = benchmark.calc_benchmark(method, _lang, n, r)"
   ]
  },
  {
   "cell_type": "code",
   "execution_count": null,
   "metadata": {},
   "outputs": [],
   "source": [
    "# also run scripts of nothing (to measure running time of lang cmd itself)\n",
    "_results_by_langs_nothing = {}\n",
    "for _lang in _langs:\n",
    "    _results_by_langs_nothing[_lang] = benchmark.calc_benchmark('nothing', _lang, n, r)"
   ]
  },
  {
   "cell_type": "code",
   "execution_count": null,
   "metadata": {},
   "outputs": [],
   "source": [
    "_avgs = []\n",
    "_avgs_nothing = []\n",
    "for _lang in _langs:\n",
    "    _avgs.append(sum(_results_by_langs[_lang]) / r)\n",
    "    _avgs_nothing.append(sum(_results_by_langs_nothing[_lang]) / r)\n",
    "\n",
    "df = pd.DataFrame({\n",
    "    'language': _langs,\n",
    "    method: _avgs,\n",
    "    'nothing': _avgs_nothing,\n",
    "})"
   ]
  },
  {
   "cell_type": "code",
   "execution_count": null,
   "metadata": {},
   "outputs": [],
   "source": [
    "df['real'] = df[method] - df['nothing']\n",
    "df = df.set_index('language')"
   ]
  },
  {
   "cell_type": "code",
   "execution_count": null,
   "metadata": {},
   "outputs": [],
   "source": [
    "df[method].plot.barh()"
   ]
  },
  {
   "cell_type": "code",
   "execution_count": null,
   "metadata": {},
   "outputs": [],
   "source": [
    "df['nothing'].plot.barh()"
   ]
  },
  {
   "cell_type": "code",
   "execution_count": null,
   "metadata": {},
   "outputs": [],
   "source": [
    "df['real'].plot.barh()"
   ]
  }
 ],
 "metadata": {
  "interpreter": {
   "hash": "d3bb9a330ca8deb56f2ea771eb176a8043d9447eea49f8a3032bdb2a4cfc4ae1"
  },
  "kernelspec": {
   "display_name": "Python 3.9.7 64-bit ('3.9.7': pyenv)",
   "name": "python3"
  },
  "language_info": {
   "codemirror_mode": {
    "name": "ipython",
    "version": 3
   },
   "file_extension": ".py",
   "mimetype": "text/x-python",
   "name": "python",
   "nbconvert_exporter": "python",
   "pygments_lexer": "ipython3",
   "version": "3.9.7"
  }
 },
 "nbformat": 4,
 "nbformat_minor": 2
}
