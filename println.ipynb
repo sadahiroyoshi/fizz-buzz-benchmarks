{
 "cells": [
  {
   "cell_type": "code",
   "execution_count": 1,
   "metadata": {},
   "outputs": [],
   "source": [
    "# The explanation how to calc benchmark in this repo\n",
    "\n",
    "# Suppose, this benchmarks may not be useful but only for your interests.\n",
    "# In many cases, as you know, the performance of `println` method itself is not important in production.\n",
    "\n",
    "import platform\n",
    "import pandas as pd\n",
    "import numpy as np\n",
    "import matplotlib.pyplot as plt\n",
    "import tool.language as language\n",
    "import tool.benchmark as benchmark"
   ]
  },
  {
   "cell_type": "code",
   "execution_count": 2,
   "metadata": {},
   "outputs": [
    {
     "name": "stdout",
     "output_type": "stream",
     "text": [
      "platform.system()=Darwin\n",
      "platform.version()=Darwin Kernel Version 20.6.0: Mon Aug 30 06:12:20 PDT 2021; root:xnu-7195.141.6~3/RELEASE_ARM64_T8101\n",
      "platform.release()=20.6.0\n"
     ]
    }
   ],
   "source": [
    "print( \"platform.system()={}\".format( platform.system() ))\n",
    "print( \"platform.version()={}\".format( platform.version() ))\n",
    "print( \"platform.release()={}\".format( platform.release() ))"
   ]
  },
  {
   "cell_type": "code",
   "execution_count": 3,
   "metadata": {},
   "outputs": [],
   "source": [
    "# load all languages in conf/languages.csv.\n",
    "langs = language.load_languages()"
   ]
  },
  {
   "cell_type": "code",
   "execution_count": 4,
   "metadata": {},
   "outputs": [
    {
     "name": "stdout",
     "output_type": "stream",
     "text": [
      "python:\n",
      "Python 3.9.7\n",
      "\n",
      "rust:\n",
      "rustc 1.54.0 (a178d0322 2021-07-26)\n",
      "\n",
      "go:\n",
      "go version go1.17.2 darwin/amd64\n",
      "\n",
      "scala:\n",
      "Scala code runner version 2.13.6 -- Copyright 2002-2021, LAMP/EPFL and Lightbend, Inc.\n",
      "\n",
      "c:\n",
      "Apple clang version 13.0.0 (clang-1300.0.29.3)\n",
      "Target: x86_64-apple-darwin20.6.0\n",
      "Thread model: posix\n",
      "InstalledDir: /Applications/Xcode.app/Contents/Developer/Toolchains/XcodeDefault.xctoolchain/usr/bin\n",
      "\n",
      "java:\n",
      "openjdk 16.0.2 2021-07-20\n",
      "OpenJDK Runtime Environment (build 16.0.2+7-67)\n",
      "OpenJDK 64-Bit Server VM (build 16.0.2+7-67, mixed mode, sharing)\n",
      "\n",
      "ruby:\n",
      "ruby 2.6.5p114 (2019-10-01 revision 67812) [x86_64-darwin19]\n",
      "\n",
      "dart:\n",
      "Dart SDK version: 2.14.3 (stable) (Wed Sep 29 13:10:26 2021 +0200) on \"macos_x64\"\n",
      "\n",
      "nodejs:\n",
      "v8.10.0\n",
      "\n"
     ]
    }
   ],
   "source": [
    "# print all versions of each langs on your device.\n",
    "for _lang in langs:\n",
    "    language.print_version(_lang)"
   ]
  },
  {
   "cell_type": "code",
   "execution_count": 5,
   "metadata": {},
   "outputs": [
    {
     "name": "stderr",
     "output_type": "stream",
     "text": [
      "02:21:11.992 tool.benchmark:31 calc_benchmark [DEBUG]: python started...\n",
      "02:21:11.994 tool.benchmark:41 calc_benchmark [DEBUG]: run:['python', '/Users/sadahiroyoshi/Documents/apps/mygithub/fizz-buzz-benchmarks/script/python/println/fizz_buzz_println.py', '100000']\n",
      "02:21:53.863 tool.benchmark:46 calc_benchmark [DEBUG]: ignore the first run as noise removing\n",
      "02:21:53.865 tool.benchmark:49 calc_benchmark [DEBUG]: python finished...\n",
      "02:21:53.865 tool.benchmark:31 calc_benchmark [DEBUG]: rust started...\n",
      "02:21:53.866 tool.benchmark:36 calc_benchmark [DEBUG]: compile:['cargo', 'build', '--release', '--manifest-path', '/Users/sadahiroyoshi/Documents/apps/mygithub/fizz-buzz-benchmarks/script/rust/println/Cargo.toml']\n",
      "02:21:53.953 tool.benchmark:41 calc_benchmark [DEBUG]: run:['/Users/sadahiroyoshi/Documents/apps/mygithub/fizz-buzz-benchmarks/script/rust/println/target/release/fizz_buzz_println', '100000']\n",
      "02:21:58.480 tool.benchmark:46 calc_benchmark [DEBUG]: ignore the first run as noise removing\n",
      "02:21:58.481 tool.benchmark:49 calc_benchmark [DEBUG]: rust finished...\n",
      "02:21:58.482 tool.benchmark:31 calc_benchmark [DEBUG]: go started...\n",
      "02:21:58.482 tool.benchmark:36 calc_benchmark [DEBUG]: compile:['go', 'build', '-o', '/Users/sadahiroyoshi/Documents/apps/mygithub/fizz-buzz-benchmarks/script/go/println/target/', '/Users/sadahiroyoshi/Documents/apps/mygithub/fizz-buzz-benchmarks/script/go/println/fizz_buzz_println.go']\n",
      "02:21:58.735 tool.benchmark:41 calc_benchmark [DEBUG]: run:['/Users/sadahiroyoshi/Documents/apps/mygithub/fizz-buzz-benchmarks/script/go/println/target/fizz_buzz_println', '100000']\n",
      "02:22:06.912 tool.benchmark:46 calc_benchmark [DEBUG]: ignore the first run as noise removing\n",
      "02:22:06.914 tool.benchmark:49 calc_benchmark [DEBUG]: go finished...\n",
      "02:22:06.915 tool.benchmark:31 calc_benchmark [DEBUG]: scala started...\n",
      "02:22:06.917 tool.benchmark:36 calc_benchmark [DEBUG]: compile:['scalac', '-d', '/Users/sadahiroyoshi/Documents/apps/mygithub/fizz-buzz-benchmarks/script/scala/println/target/', '/Users/sadahiroyoshi/Documents/apps/mygithub/fizz-buzz-benchmarks/script/scala/println/FizzBuzzPrintln.scala']\n",
      "02:22:11.524 tool.benchmark:41 calc_benchmark [DEBUG]: run:['scala', '-cp', '/Users/sadahiroyoshi/Documents/apps/mygithub/fizz-buzz-benchmarks/script/scala/println/target', 'FizzBuzzPrintln', '100000']\n",
      "02:24:16.74  tool.benchmark:46 calc_benchmark [DEBUG]: ignore the first run as noise removing\n",
      "02:24:16.76  tool.benchmark:49 calc_benchmark [DEBUG]: scala finished...\n",
      "02:24:16.77  tool.benchmark:31 calc_benchmark [DEBUG]: c started...\n",
      "02:24:16.78  tool.benchmark:36 calc_benchmark [DEBUG]: compile:['cc', '/Users/sadahiroyoshi/Documents/apps/mygithub/fizz-buzz-benchmarks/script/c/println/fizz_buzz_println.c', '-o', '/Users/sadahiroyoshi/Documents/apps/mygithub/fizz-buzz-benchmarks/script/c/println/target/fizz_buzz_println']\n",
      "02:24:16.397 tool.benchmark:41 calc_benchmark [DEBUG]: run:['/Users/sadahiroyoshi/Documents/apps/mygithub/fizz-buzz-benchmarks/script/c/println/target/fizz_buzz_println', '100000']\n",
      "02:24:18.721 tool.benchmark:46 calc_benchmark [DEBUG]: ignore the first run as noise removing\n",
      "02:24:18.722 tool.benchmark:49 calc_benchmark [DEBUG]: c finished...\n",
      "02:24:18.723 tool.benchmark:31 calc_benchmark [DEBUG]: java started...\n",
      "02:24:18.723 tool.benchmark:36 calc_benchmark [DEBUG]: compile:['javac', '-d', '/Users/sadahiroyoshi/Documents/apps/mygithub/fizz-buzz-benchmarks/script/java/println/target/', '/Users/sadahiroyoshi/Documents/apps/mygithub/fizz-buzz-benchmarks/script/java/println/FizzBuzzPrintln.java']\n",
      "02:24:19.915 tool.benchmark:41 calc_benchmark [DEBUG]: run:['java', '-cp', '/Users/sadahiroyoshi/Documents/apps/mygithub/fizz-buzz-benchmarks/script/java/println/target', 'FizzBuzzPrintln', '100000']\n"
     ]
    }
   ],
   "source": [
    "# calculate all benchmarks of 'println'\n",
    "method = 'println'\n",
    "n = 100_000\n",
    "r = 10\n",
    "\n",
    "results_by_langs = {}\n",
    "for _lang in langs:\n",
    "    results_by_langs[_lang] = benchmark.calc_benchmark(method, _lang, n, r, debug=True)"
   ]
  },
  {
   "cell_type": "code",
   "execution_count": null,
   "metadata": {},
   "outputs": [],
   "source": [
    "# also run scripts of nothing (to measure running time of lang cmd itself)\n",
    "results_by_langs_nothing = {}\n",
    "for _lang in langs:\n",
    "    results_by_langs_nothing[_lang] = benchmark.calc_benchmark('nothing', _lang, n, r, debug=True)"
   ]
  },
  {
   "cell_type": "code",
   "execution_count": null,
   "metadata": {},
   "outputs": [],
   "source": [
    "_avgs = []\n",
    "_avgs_nothing = []\n",
    "for _lang in langs:\n",
    "    _avgs.append(sum(results_by_langs[_lang]) / r)\n",
    "    _avgs_nothing.append(sum(results_by_langs_nothing[_lang]) / r)\n",
    "\n",
    "df = pd.DataFrame({\n",
    "    'language': langs,\n",
    "    method: _avgs,\n",
    "    'nothing': _avgs_nothing,\n",
    "})"
   ]
  },
  {
   "cell_type": "code",
   "execution_count": null,
   "metadata": {},
   "outputs": [],
   "source": [
    "df['real'] = df[method] - df['nothing']\n",
    "df = df.set_index('language')"
   ]
  },
  {
   "cell_type": "code",
   "execution_count": null,
   "metadata": {},
   "outputs": [],
   "source": [
    "df[method].plot.barh()"
   ]
  },
  {
   "cell_type": "code",
   "execution_count": null,
   "metadata": {},
   "outputs": [],
   "source": [
    "df['nothing'].plot.barh()"
   ]
  },
  {
   "cell_type": "code",
   "execution_count": null,
   "metadata": {},
   "outputs": [],
   "source": [
    "df['real'].plot.barh()"
   ]
  }
 ],
 "metadata": {
  "interpreter": {
   "hash": "d3bb9a330ca8deb56f2ea771eb176a8043d9447eea49f8a3032bdb2a4cfc4ae1"
  },
  "kernelspec": {
   "display_name": "Python 3.9.7 64-bit ('3.9.7': pyenv)",
   "name": "python3"
  },
  "language_info": {
   "codemirror_mode": {
    "name": "ipython",
    "version": 3
   },
   "file_extension": ".py",
   "mimetype": "text/x-python",
   "name": "python",
   "nbconvert_exporter": "python",
   "pygments_lexer": "ipython3",
   "version": "3.9.7"
  }
 },
 "nbformat": 4,
 "nbformat_minor": 2
}
